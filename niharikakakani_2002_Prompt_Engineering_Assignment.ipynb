{
  "nbformat": 4,
  "nbformat_minor": 0,
  "metadata": {
    "colab": {
      "provenance": [],
      "mount_file_id": "1eV-6OpYUAfuPd556KOcXsnNSqLcPnQr1",
      "authorship_tag": "ABX9TyPkWGxA75rGLsVRNKCybMcx",
      "include_colab_link": true
    },
    "kernelspec": {
      "name": "python3",
      "display_name": "Python 3"
    },
    "language_info": {
      "name": "python"
    }
  },
  "cells": [
    {
      "cell_type": "markdown",
      "metadata": {
        "id": "view-in-github",
        "colab_type": "text"
      },
      "source": [
        "<a href=\"https://colab.research.google.com/github/Niharika-2002/Prompt-Engineering-Assignment/blob/main/niharikakakani_2002_Prompt_Engineering_Assignment.ipynb\" target=\"_parent\"><img src=\"https://colab.research.google.com/assets/colab-badge.svg\" alt=\"Open In Colab\"/></a>"
      ]
    },
    {
      "cell_type": "markdown",
      "source": [
        " **Problem Statement:**\n",
        "\n",
        "Design and implement different prompt engineering techniques—namely\n",
        "zero-shot,few-shot, and chain-of-thought prompting—on a scientific\n",
        "research article related to astrophysics (black holes). The objective is\n",
        "to understand how different prompt formats affect the output\n",
        "and summarization quality.\n",
        "\n",
        " **Abstract:**\n",
        "\n",
        "This project focuses on applying prompt engineering strategies to a cleaned\n",
        "scientific article discussing black holes. The article includes findings\n",
        "from Dr. Alan Rothwell and Prof. Priya Sinha regarding singularity\n",
        "formation, event horizons, and Hawking Radiation. Three approaches—zero-shot,\n",
        "few-shot, and chain-of-thought prompting—are simulated to generate structured outputs.\n",
        "Results are saved to a text file for analysis and submission."
      ],
      "metadata": {
        "id": "lTU0OXaEtwCD"
      }
    },
    {
      "cell_type": "markdown",
      "source": [
        "**Import Required Libraries**"
      ],
      "metadata": {
        "id": "BQXUMPltTLAz"
      }
    },
    {
      "cell_type": "code",
      "source": [
        "import re\n"
      ],
      "metadata": {
        "id": "wMUe3cUES1OX"
      },
      "execution_count": null,
      "outputs": []
    },
    {
      "cell_type": "markdown",
      "source": [
        "**Define the Raw Research Article**"
      ],
      "metadata": {
        "id": "Fd40G5jITYsU"
      }
    },
    {
      "cell_type": "code",
      "source": [
        "raw_text = \"\"\"\n",
        "Black..... holes—those mysterious cosmic phenomena—are regions in space with gravitational forces so intense that not even light can escape.\n",
        "Astrophysicists Dr. Alan Rothwell and Prof. Priya Sinha### have dived deeply into the “science” $$$$ of these objects, uncovering fascinating insights!\n",
        "According to Rothwell’s research (2021), black holes form when massive stars burn ^^^^through their fuel & collapse under gravity until they reach a singularity—a point of (nearly) infinite density, where physics bReak dOwn.\n",
        "Sinha’s studies focus on the event horizon, or the “point of no return”; any matter or light crossing this boundary is trapped forever.\n",
        "Sinha also examines Hawking Radiation—a theoretical ....concept from Stephen Hawking—suggesting that black holes.... emit small amounts of energy...., slowly losing mass.\n",
        "Such radiation might allow scientists to peek inside these intense entities!!!!.\n",
        "Together, Rothwell and Sinha’s studies hint at bridging quantum mechanics w/ general relativity—fields otherwise tough to reconcile!\n",
        "\"\"\""
      ],
      "metadata": {
        "id": "teyM6s23TZlT"
      },
      "execution_count": null,
      "outputs": []
    },
    {
      "cell_type": "markdown",
      "source": [
        "**Clean the Raw Research Article**"
      ],
      "metadata": {
        "id": "0AOaLmIojtXf"
      }
    },
    {
      "cell_type": "code",
      "source": [
        "def clean_text(text):\n",
        "    text = re.sub(r'\\.+', '.', text)\n",
        "    text = re.sub(r'#+|\\$+|\\^+', '', text)\n",
        "    text = re.sub(r'\\s+', ' ', text)\n",
        "    text = text.replace('&', 'and')\n",
        "    text = re.sub(r'\\b(bReak dOwn)\\b', 'break down', text, flags=re.IGNORECASE)\n",
        "    return text.strip()\n",
        "\n",
        "cleaned_text = clean_text(raw_text)"
      ],
      "metadata": {
        "id": "B-g-b4jTTtL0"
      },
      "execution_count": null,
      "outputs": []
    },
    {
      "cell_type": "markdown",
      "source": [
        "**Create Zero-shot Prompt Output**"
      ],
      "metadata": {
        "id": "-8I4gNM1ki17"
      }
    },
    {
      "cell_type": "code",
      "source": [
        "zero_shot = \"\"\"- Black holes have gravitational forces so strong that light cannot escape.\n",
        "- Dr. Alan Rothwell found that black holes form when massive stars collapse into singularities.\n",
        "- Prof. Priya Sinha studied event horizons and Hawking Radiation.\n",
        "- Hawking Radiation suggests black holes can slowly lose mass by emitting energy.\n",
        "- Their studies hint at connecting quantum mechanics and general relativity.\"\"\"\n"
      ],
      "metadata": {
        "id": "fgKOmeXejKGz"
      },
      "execution_count": null,
      "outputs": []
    },
    {
      "cell_type": "markdown",
      "source": [
        "**Create Few-shot Prompt Output**"
      ],
      "metadata": {
        "id": "c1E4Bo2dksUf"
      }
    },
    {
      "cell_type": "code",
      "source": [
        "few_shot = \"\"\"- Black holes have intense gravitational forces.\n",
        "- Dr. Rothwell explains they form from collapsed stars.\n",
        "- Prof. Sinha explores the event horizon and Hawking Radiation.\n",
        "- Radiation implies black holes lose mass over time.\n",
        "- Their research bridges two major fields: quantum mechanics and general relativity.\"\"\""
      ],
      "metadata": {
        "id": "6UTzNGhck1Ug"
      },
      "execution_count": null,
      "outputs": []
    },
    {
      "cell_type": "markdown",
      "source": [
        "**Create Chain-of-Thought Prompt Output**"
      ],
      "metadata": {
        "id": "ZBgC5Ew-k9Rx"
      }
    },
    {
      "cell_type": "code",
      "source": [
        "cot = \"\"\"1. Main Researchers: Dr. Alan Rothwell and Prof. Priya Sinha.\n",
        "2. Findings:\n",
        "   - Rothwell: black holes form from collapsing stars into singularities.\n",
        "   - Sinha: black holes emit energy through Hawking Radiation.\n",
        "3. Implications:\n",
        "   - Black holes emit radiation and slowly lose mass.\n",
        "   - This helps connect quantum mechanics with general relativity.\"\"\""
      ],
      "metadata": {
        "id": "3jzgB2YrS6FX"
      },
      "execution_count": null,
      "outputs": []
    },
    {
      "cell_type": "markdown",
      "source": [
        "**Print Problem Statement and Abstract**"
      ],
      "metadata": {
        "id": "RS4E7pJ4lfWJ"
      }
    },
    {
      "cell_type": "code",
      "source": [
        "print(\"🧠 Prompt Engineering Assignment Results\\n\")\n",
        "print(\"===========================\\n\")\n",
        "print(\"🔹 1. Problem Statement:\")\n",
        "print(\"Design and implement different prompt engineering techniques—namely zero-shot, few-shot, and chain-of-thought prompting—on a scientific research article related to astrophysics (black holes). The objective is to understand how different prompt formats affect the output and summarization quality.\\n\")\n",
        "print(\"🔹 2. Abstract:\")\n",
        "print(\"This project focuses on applying prompt engineering strategies to a cleaned scientific article discussing black holes. The article includes findings from Dr. Alan Rothwell and Prof. Priya Sinha regarding singularity formation, event horizons, and Hawking Radiation. Three approaches—zero-shot, few-shot, and chain-of-thought prompting—are simulated to generate structured outputs. Results are saved to a text file for analysis and submission.\\n\")\n"
      ],
      "metadata": {
        "colab": {
          "base_uri": "https://localhost:8080/"
        },
        "id": "A3bbCHe7SvMs",
        "outputId": "79ada1fc-45da-41b0-c931-058d8718b08a",
        "collapsed": true
      },
      "execution_count": null,
      "outputs": [
        {
          "output_type": "stream",
          "name": "stdout",
          "text": [
            "🧠 Prompt Engineering Assignment Results\n",
            "\n",
            "===========================\n",
            "\n",
            "🔹 1. Problem Statement:\n",
            "Design and implement different prompt engineering techniques—namely zero-shot, few-shot, and chain-of-thought prompting—on a scientific research article related to astrophysics (black holes). The objective is to understand how different prompt formats affect the output and summarization quality.\n",
            "\n",
            "🔹 2. Abstract:\n",
            "This project focuses on applying prompt engineering strategies to a cleaned scientific article discussing black holes. The article includes findings from Dr. Alan Rothwell and Prof. Priya Sinha regarding singularity formation, event horizons, and Hawking Radiation. Three approaches—zero-shot, few-shot, and chain-of-thought prompting—are simulated to generate structured outputs. Results are saved to a text file for analysis and submission.\n",
            "\n"
          ]
        }
      ]
    },
    {
      "cell_type": "markdown",
      "source": [
        "**Print Zero-shot Output**"
      ],
      "metadata": {
        "id": "FWF7TsBVlwvq"
      }
    },
    {
      "cell_type": "code",
      "source": [
        "print(\"🔹 3. Zero-shot Prompt Output:\")\n",
        "print(zero_shot + \"\\n\")"
      ],
      "metadata": {
        "colab": {
          "base_uri": "https://localhost:8080/"
        },
        "id": "YXTqSBs2SnZ_",
        "outputId": "bf7b979f-111a-4445-9757-debcb4689d4c",
        "collapsed": true
      },
      "execution_count": null,
      "outputs": [
        {
          "output_type": "stream",
          "name": "stdout",
          "text": [
            "🔹 3. Zero-shot Prompt Output:\n",
            "- Black holes have gravitational forces so strong that light cannot escape.\n",
            "- Dr. Alan Rothwell found that black holes form when massive stars collapse into singularities.\n",
            "- Prof. Priya Sinha studied event horizons and Hawking Radiation.\n",
            "- Hawking Radiation suggests black holes can slowly lose mass by emitting energy.\n",
            "- Their studies hint at connecting quantum mechanics and general relativity.\n",
            "\n"
          ]
        }
      ]
    },
    {
      "cell_type": "markdown",
      "source": [
        "**Print Few-shot Output**"
      ],
      "metadata": {
        "id": "0sxEacG4l_ku"
      }
    },
    {
      "cell_type": "code",
      "source": [
        "print(\"🔹 4. Few-shot Prompt Output:\")\n",
        "print(few_shot + \"\\n\")"
      ],
      "metadata": {
        "colab": {
          "base_uri": "https://localhost:8080/"
        },
        "id": "-yiY6z4vSfUN",
        "outputId": "4af0c756-c501-4d99-efb2-e35bd524da34",
        "collapsed": true
      },
      "execution_count": null,
      "outputs": [
        {
          "output_type": "stream",
          "name": "stdout",
          "text": [
            "🔹 4. Few-shot Prompt Output:\n",
            "- Black holes have intense gravitational forces.\n",
            "- Dr. Rothwell explains they form from collapsed stars.\n",
            "- Prof. Sinha explores the event horizon and Hawking Radiation.\n",
            "- Radiation implies black holes lose mass over time.\n",
            "- Their research bridges two major fields: quantum mechanics and general relativity.\n",
            "\n"
          ]
        }
      ]
    },
    {
      "cell_type": "markdown",
      "source": [
        "**Print Chain-of-Thought Output**"
      ],
      "metadata": {
        "id": "Jhavoej9mNfW"
      }
    },
    {
      "cell_type": "code",
      "source": [
        "print(\"🔹 5. Chain-of-Thought Prompt Output:\")\n",
        "print(cot)"
      ],
      "metadata": {
        "colab": {
          "base_uri": "https://localhost:8080/"
        },
        "id": "VSSXP0sXSZ4o",
        "outputId": "4ab07252-a71c-4abb-9035-df65cfc05f5d",
        "collapsed": true
      },
      "execution_count": null,
      "outputs": [
        {
          "output_type": "stream",
          "name": "stdout",
          "text": [
            "🔹 5. Chain-of-Thought Prompt Output:\n",
            "1. Main Researchers: Dr. Alan Rothwell and Prof. Priya Sinha.\n",
            "2. Findings:\n",
            "   - Rothwell: black holes form from collapsing stars into singularities.\n",
            "   - Sinha: black holes emit energy through Hawking Radiation.\n",
            "3. Implications:\n",
            "   - Black holes emit radiation and slowly lose mass.\n",
            "   - This helps connect quantum mechanics with general relativity.\n"
          ]
        }
      ]
    }
  ]
}